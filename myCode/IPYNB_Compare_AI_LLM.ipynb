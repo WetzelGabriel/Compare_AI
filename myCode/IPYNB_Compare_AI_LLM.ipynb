{
 "cells": [
  {
   "cell_type": "markdown",
   "metadata": {},
   "source": [
    "### LLM Model Comparison\n",
    "\n",
    "* **Model**: Dolphin3.0-Llama3.2-1B-GGUF / Dolphin3.0-Llama3.2-1B-Q6_K_L.gguf\n",
    "* **Download**: ollama pull <model_name>, ollama pull hf.co/bartowski/Dolphin3.0-Llama3.2-1B-GGUF:Q6_K_L\n",
    "* **Run**: ollama run hf.co/bartowski/Dolphin3.0-Llama3.2-1B-GGUF:Q6_K_L\n",
    "* **HuggingFace**: listed as \"recommended, nearly perfect\" on following page <a href=\"https://huggingface.co/bartowski/Dolphin3.0-Qwen2.5-0.5B-GGUF\" target=\"_blank\">\n",
    "https://huggingface.co/bartowski/Dolphin3.0-Qwen2.5-0.5B-GGUF</a>\n",
    "\n",
    "\n"
   ]
  },
  {
   "cell_type": "code",
   "execution_count": 1,
   "metadata": {},
   "outputs": [
    {
     "data": {
      "text/plain": [
       "215"
      ]
     },
     "execution_count": 1,
     "metadata": {},
     "output_type": "execute_result"
    }
   ],
   "source": [
    "from langchain_core.prompts import ChatPromptTemplate\n",
    "from langchain_ollama.llms import OllamaLLM\n",
    "import time\n",
    "import gc\n",
    "gc.collect()  # Explicitly call garbage collector"
   ]
  },
  {
   "cell_type": "code",
   "execution_count": 2,
   "metadata": {},
   "outputs": [],
   "source": [
    "from langchain_community.document_loaders import PyPDFLoader\n",
    "\n",
    "async def upload_file(file_path):\n",
    "    \"\"\"\n",
    "    Upload a file as a data source for the LLM.\n",
    "    Args:\n",
    "        file_path (str): The path to the file to upload.\n",
    "    Returns:\n",
    "        LocalFileLoader: The loaded file.\n",
    "    \"\"\"\n",
    "    loader = PyPDFLoader(file_path)\n",
    "    pages = []\n",
    "    async for page in loader.alazy_load():\n",
    "        pages.append(page)\n",
    "    return loader.load()"
   ]
  },
  {
   "cell_type": "code",
   "execution_count": 3,
   "metadata": {},
   "outputs": [],
   "source": [
    "import asyncio\n",
    "import nest_asyncio\n",
    "nest_asyncio.apply()\n",
    "file_path = \"/home/gabriel/myProject_LLM/myDocs/CV_Gabriel_250302_G.pdf\"\n",
    "documents = asyncio.run(upload_file(file_path))\n",
    "# Define the role or instructions for the OpenAI model"
   ]
  },
  {
   "cell_type": "code",
   "execution_count": 4,
   "metadata": {},
   "outputs": [
    {
     "name": "stdout",
     "output_type": "stream",
     "text": [
      "LLLM Comparison Console App\n"
     ]
    }
   ],
   "source": [
    "# Title\n",
    "print(\"LLLM Comparison Console App\")\n",
    "\n",
    "# Template for the question\n",
    "template = \"\"\"Question: {question}\n",
    "              Documents: {documents}\n",
    "              Answer: Let's think step by step.\"\"\"\n",
    "\n",
    "# Create the prompt\n",
    "prompt = ChatPromptTemplate.from_template(template)"
   ]
  },
  {
   "cell_type": "code",
   "execution_count": 5,
   "metadata": {},
   "outputs": [],
   "source": [
    "# Function to get model response and measure time\n",
    "def get_model_response(model_name, question):\n",
    "    model = OllamaLLM(model=model_name, keep_alive=0)\n",
    "    response = prompt | model\n",
    "    del model  # Delete the model after use\n",
    "    gc.collect()  # Explicitly call garbage collector\n",
    "    return response.invoke({\"question\": question, \"documents\": documents})"
   ]
  },
  {
   "cell_type": "code",
   "execution_count": 6,
   "metadata": {},
   "outputs": [],
   "source": [
    "# Get the question from the user\n",
    "# question = input(\"Enter your question here: \")\n",
    "\n",
    "question = \"Name of the candidate in the CV? Don't be fool by other names like company names or colleague's names\""
   ]
  },
  {
   "cell_type": "markdown",
   "metadata": {},
   "source": [
    "To check the memory need, you can use the command\n",
    "\n",
    "`free`\n",
    "\n",
    "in the terminal"
   ]
  },
  {
   "cell_type": "code",
   "execution_count": 7,
   "metadata": {},
   "outputs": [
    {
     "name": "stdout",
     "output_type": "stream",
     "text": [
      "\n",
      "Model: DeepSeek-R1 1.5b\n",
      "Response: <think>\n",
      "Alright, so the user has provided a detailed CV that includes information about their career progression, education, and various positions in different companies. They also have a section where they answered an initial question related to this CV.\n",
      "\n",
      "First, I need to understand what exactly the user is asking for here. The previous conversation was pretty general; the user just mentioned \"Let's think step by step...\" but hasn't provided any specific questions or topics they're curious about. So, my task now is to take a look at the given CV and think through it step by step.\n",
      "\n",
      "Looking at their CV, I see that they've worked at Robert Bosch GmbH in Germany and the USA, have been involved in various product groups like Power Conversion Units, Door Control Units, Electronic Battery Sensors, and others. They also have experience with automotive suppliers and have contributed to patents and publications on topics related to automotive electronics, vehicle dynamics systems, and AI chatbots.\n",
      "\n",
      "I should probably consider areas where they might need help or want to highlight their skills. For example, they've managed multiple product groups, led development projects, worked on cost reduction initiatives, and introduced new technologies like door-ECUs and 48V power units. Their hands-on experience in automotive electronics and vehicle dynamics systems could be useful for someone looking into that space.\n",
      "\n",
      "Another point is their background with B2C AI chatbots and AI-driven voice control. This shows a strong interest in technology integration, which might make them a good fit for roles involving AI or mobile technologies.\n",
      "\n",
      "I also notice they have several patents and publications, indicating innovation and expertise in specific technical areas. This could be valuable for someone considering a career in R&D or specialized product development roles.\n",
      "\n",
      "However, I should note that without knowing specific questions or topics the user is interested in, it's hard to provide detailed insights. Maybe they're looking to highlight certain skills or experiences when applying for jobs or seeking opportunities in tech-related fields.\n",
      "\n",
      "Overall, their CV demonstrates versatility across different industries and technical areas, which makes them a well-rounded candidate with a broad skill set.\n",
      "</think>\n",
      "\n",
      "It seems like your CV is quite comprehensive and covers a wide range of technical, hands-on experience, industry expertise, and innovation. It would be useful to have more specific questions or topics you'd like to focus on—such as **[specific topic]**, **[another specific topic]**, or perhaps how they can contribute to **[a particular area]** in your field. Let me know what you're curious about!\n",
      "Time taken: 19.27 seconds\n",
      "\n",
      "Model: Dolphin3.0-Llama3.2-1B-GGUF Q6_K_L\n",
      "Response: To answer the question, I'll break it down into two parts:\n",
      "\n",
      "1. **Understanding Robert Bosch GmbH**: The company focuses on developing technology for automotive applications like power conversion, chassis systems, industrial automation, consumer electronics, and more. It has a presence in multiple countries worldwide.\n",
      "\n",
      "2. **Product Roles at Robert Bosch GmbH**:\n",
      "   - 2010-2014: Product Group Lead \"Power Conversion Unit\" - Director\n",
      "     - This position involved leading the business unit responsible for developing DC/DC converters that support mild hybrid applications (48V to 12V transition). The focus was on evolving legacy products from series start-to-stop (12V) to mild hybrid architectures (48V).\n",
      "   - 2009-2010: Project Director \"Cost Reduction\" in body electronics – Purchasing focus\n",
      "     - In this role, the company leveraged competitive strategies like disruptive design, scheduling, negotiation processes, and communication within procurement. The goal was to achieve significant cost savings for components such as pins, power electronics, microcontrollers.\n",
      "   - 2007-2009: Program Director \"Door Control Unit (DCU)\"\n",
      "     - This position involved integrating the door control business unit into the body electronics group. It focused on coordinating and managing global series business in terms of sales volume.\n",
      "   - 1997-2004: Platform Project Manager \"Electronic Battery Sensor\"\n",
      "     - Involved acquiring successful acquisitions in Korea (Hyundai, SsangYong), England (Ford), and France (PSA, DAF). The role involved managing platforms for electronics sensors with a focus on turnovers of €120 million.\n",
      "   - 1999-2004: Project Manager, Team Leader & Software Developer\n",
      "     - Roles included project management, team leadership, and software development in Schweberdingen (DE), Reutlingen (DE), and Detroit (USA).\n",
      "\n",
      "These roles illustrate the broad spectrum of responsibilities at Robert Bosch GmbH, from product lead to business unit director and various project manager and developer positions within different teams.\n",
      "Time taken: 13.85 seconds\n",
      "\n",
      "Model: DeepSeek-R1 7b\n",
      "Response: <think>\n",
      "Okay, so I've got this query from a user asking about some pages related to Robert Bosch GmbH in the automotive industry. They provided two PDFs with content on page 3 and page 4 of each. My task is to figure out what they're really looking for. \n",
      "\n",
      "First, I need to understand the structure of their data. The first PDF (page 3) seems to outline the professional journey of someone at Robert Bosch, detailing roles from 2010-2014 as Product Group Lead, and prior positions like Project Director from 2009-2010. They also mention achievements like winning an invention competition in 1995 and various launches related to hybrid technology.\n",
      "\n",
      "The second PDF (page 4) is about a different person's roles at Robert Bosch. This person started as a Resident Engineer from 1997-1999, then moved into project management positions leading up to 2008, where they contributed to launching features like start-stop vehicles and hybrid technology.\n",
      "\n",
      "The user wants an answer based on these pages. They might be looking for information about Robert Bosch's history, key products, or significant achievements in the automotive sector. Alternatively, they could be seeking to understand the professional path someone has taken at the company or how certain technologies were developed over time.\n",
      "\n",
      "I should consider if there's a specific aspect they're interested in—like innovation in electric vehicles, development of specific car features, or career trajectories within the company. Since both pages discuss different roles and projects, it seems like they want an overview or comparison of these contributions to Robert Bosch's automotive innovations.\n",
      "</think>\n",
      "\n",
      "Let me break this down step by step:\n",
      "\n",
      "1. **Understanding the Content**:\n",
      "   - The first PDF (page 3) appears to be a professional summary or CV for someone at Robert Bosch GmbH, detailing their roles and achievements in the automotive industry, particularly focusing on hybrid technologies, power conversion units, and other engineering innovations.\n",
      "   - The second PDF (page 4) is another page of a document that seems to outline similar information about Robert Bosch GmbH's history, products, and key contributions to the automotive sector.\n",
      "\n",
      "2. **Key Themes**:\n",
      "   - Both pages highlight significant advancements in hybrid technology, such as mild hybrid applications, 48V automotive power net technology for hybrid vehicles, and digital twins for vehicle data acquisition.\n",
      "   - They also mention notable achievements like winning an invention competition, developing anti-rollover solutions for trucks, and launching features such as start-stop vehicles and the first AI chatbot for user support within Bosch.\n",
      "\n",
      "3. **Possible Uses**:\n",
      "   - These pages could be part of a company's internal documentation or employee profiles.\n",
      "   - They might also serve as research material for someone interested in Robert Bosch's history, particularly their contributions to automotive innovation, especially in hybrid and electric vehicle technologies.\n",
      "\n",
      "4. **Potential Questions**:\n",
      "   - Who are the key individuals involved in these advancements at Robert Bosch?\n",
      "   - What specific innovations have Robert Bosch contributed to the automotive industry over the years?\n",
      "   - How has Robert Bosch GmbH evolved its approach to hybrid and electric vehicle technologies?\n",
      "\n",
      "5. **Conclusion**:\n",
      "   - These pages provide a glimpse into Robert Bosch's commitment to innovation, particularly in hybrid and electric automotive systems, showcasing their contributions to key technologies like mild hybrids, digital twins, and AI-driven features.\n",
      "\n",
      "If you have specific questions or need further details about the content, feel free to ask!\n",
      "Time taken: 179.28 seconds\n"
     ]
    }
   ],
   "source": [
    "# If a question is entered\n",
    "if question:\n",
    "    # Process each model sequentially\n",
    "    #models = [\n",
    "    #    (\"Dolphin3\", \"dolphin3\"),\n",
    "    #    (\"DeepSeek-R1 1.5b\", \"deepseek-r1:1.5b\"),\n",
    "    #    (\"DeepSeek-R1 7b\", \"deepseek-r1:7b\")]\n",
    "    \n",
    "    models = [\n",
    "        (\"DeepSeek-R1 1.5b\", \"deepseek-r1:1.5b\"),\n",
    "        (\"Dolphin3.0-Llama3.2-1B-GGUF Q6_K_L\", \"hf.co/bartowski/Dolphin3.0-Llama3.2-1B-GGUF:Q6_K_L\"),\n",
    "        (\"DeepSeek-R1 7b\", \"deepseek-r1:7b\")\n",
    "        ]\n",
    "\n",
    "    for model_name, model_id in models:\n",
    "        print(f\"\\nModel: {model_name}\")\n",
    "        start_time = time.time()\n",
    "        response = get_model_response(model_id, question)\n",
    "        end_time = time.time()\n",
    "        duration = end_time - start_time\n",
    "        print(f\"Response: {response}\")\n",
    "        print(f\"Time taken: {duration:.2f} seconds\")"
   ]
  }
 ],
 "metadata": {
  "kernelspec": {
   "display_name": "myvenv_llm",
   "language": "python",
   "name": "python3"
  },
  "language_info": {
   "codemirror_mode": {
    "name": "ipython",
    "version": 3
   },
   "file_extension": ".py",
   "mimetype": "text/x-python",
   "name": "python",
   "nbconvert_exporter": "python",
   "pygments_lexer": "ipython3",
   "version": "3.12.3"
  }
 },
 "nbformat": 4,
 "nbformat_minor": 2
}
